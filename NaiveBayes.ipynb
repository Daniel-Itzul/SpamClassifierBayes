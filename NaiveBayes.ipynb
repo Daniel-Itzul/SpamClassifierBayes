{
 "cells": [
  {
   "cell_type": "markdown",
   "metadata": {},
   "source": [
    "# Naive Bayes (the easy way)"
   ]
  },
  {
   "cell_type": "markdown",
   "metadata": {},
   "source": [
    "We'll cheat by using sklearn.naive_bayes to train a spam classifier! Most of the code is just loading our training data into a pandas DataFrame that we can play with:"
   ]
  },
  {
   "cell_type": "code",
   "execution_count": 32,
   "metadata": {},
   "outputs": [],
   "source": [
    "import os\n",
    "import io\n",
    "import numpy \n",
    "import pandas as pd\n",
    "from sklearn.feature_extraction.text import CountVectorizer\n",
    "from sklearn.naive_bayes import MultinomialNB\n",
    "from sklearn.model_selection import train_test_split\n",
    "\n",
    "def readFiles(path):\n",
    "    for root, dirnames, filenames in os.walk(path):\n",
    "        for filename in filenames:\n",
    "            path = os.path.join(root, filename)\n",
    "\n",
    "            inBody = False\n",
    "            lines = []\n",
    "            f = io.open(path, 'r', encoding='latin1')\n",
    "            for line in f:\n",
    "                if inBody:\n",
    "                    lines.append(line)\n",
    "                elif line == '\\n':\n",
    "                    inBody = True\n",
    "            f.close()\n",
    "            message = '\\n'.join(lines)\n",
    "            yield path, message\n",
    "\n",
    "\n",
    "def dataFrameFromDirectory(path, classification):\n",
    "    rows = []\n",
    "    index = []\n",
    "    for filename, message in readFiles(path):\n",
    "        rows.append({'message': message, 'class': classification})\n",
    "        index.append(filename)\n",
    "\n",
    "    return pd.DataFrame(rows, index=index)\n",
    "\n",
    "data = pd.DataFrame({'message': [], 'class': []})\n",
    "\n",
    "data = data.append(dataFrameFromDirectory('emails/spam', 'spam'))\n",
    "data = data.append(dataFrameFromDirectory('emails/ham', 'ham'))\n",
    "trainingSet, testSet = train_test_split(data, test_size=0.2)\n"
   ]
  },
  {
   "cell_type": "markdown",
   "metadata": {},
   "source": [
    "Let's have a look at that DataFrame:"
   ]
  },
  {
   "cell_type": "code",
   "execution_count": 33,
   "metadata": {},
   "outputs": [
    {
     "data": {
      "text/html": [
       "<div>\n",
       "<style scoped>\n",
       "    .dataframe tbody tr th:only-of-type {\n",
       "        vertical-align: middle;\n",
       "    }\n",
       "\n",
       "    .dataframe tbody tr th {\n",
       "        vertical-align: top;\n",
       "    }\n",
       "\n",
       "    .dataframe thead th {\n",
       "        text-align: right;\n",
       "    }\n",
       "</style>\n",
       "<table border=\"1\" class=\"dataframe\">\n",
       "  <thead>\n",
       "    <tr style=\"text-align: right;\">\n",
       "      <th></th>\n",
       "      <th>message</th>\n",
       "      <th>class</th>\n",
       "    </tr>\n",
       "  </thead>\n",
       "  <tbody>\n",
       "    <tr>\n",
       "      <td>emails/ham/00173.253a0161257f4fe309df9d9ffabd5ef3</td>\n",
       "      <td>&gt;peter fwded:\\n\\n&gt;&gt;Finally, Constable Evans hu...</td>\n",
       "      <td>ham</td>\n",
       "    </tr>\n",
       "    <tr>\n",
       "      <td>emails/ham/00748.d6ca40c29f4224487fc8d802cb5dca88</td>\n",
       "      <td>Of the three lying politicians, which liar wou...</td>\n",
       "      <td>ham</td>\n",
       "    </tr>\n",
       "    <tr>\n",
       "      <td>emails/ham/00663.cbfae39e27122415329840060e7619e8</td>\n",
       "      <td>On Thu, 19 Sep 2002, Mr. FoRK wrote:\\n\\n--]I t...</td>\n",
       "      <td>ham</td>\n",
       "    </tr>\n",
       "    <tr>\n",
       "      <td>emails/ham/00616.1111fc61de078f069db9d72e961ab5a1</td>\n",
       "      <td>Pity.  Reading that woman's ad and knowing Roh...</td>\n",
       "      <td>ham</td>\n",
       "    </tr>\n",
       "    <tr>\n",
       "      <td>emails/spam/00124.db848e36f1b4c2705cbc16ef33a302d4</td>\n",
       "      <td>This is a multi-part message in MIME format.\\n...</td>\n",
       "      <td>spam</td>\n",
       "    </tr>\n",
       "    <tr>\n",
       "      <td>...</td>\n",
       "      <td>...</td>\n",
       "      <td>...</td>\n",
       "    </tr>\n",
       "    <tr>\n",
       "      <td>emails/spam/00368.2c1ab4bc7f408e0fcb22dca9b2d5a113</td>\n",
       "      <td>&lt;!DOCTYPE HTML PUBLIC \"-//W3C//DTD HTML 3.2//E...</td>\n",
       "      <td>spam</td>\n",
       "    </tr>\n",
       "    <tr>\n",
       "      <td>emails/ham/01383.18c85b7ead9efe35b9a128c42e5170fc</td>\n",
       "      <td>Dan Kohn &lt;dan@dankohn.com&gt; writes:\\n\\n\\n\\n&gt; Gu...</td>\n",
       "      <td>ham</td>\n",
       "    </tr>\n",
       "    <tr>\n",
       "      <td>emails/spam/00200.bacd4b2168049778b480367ca670254f</td>\n",
       "      <td>Dear zzzz =2C\\n\\n\\n\\n=3CBODY bgColor=3D#ffccff...</td>\n",
       "      <td>spam</td>\n",
       "    </tr>\n",
       "    <tr>\n",
       "      <td>emails/ham/01447.98e4b20ceb192594e992f7db9f8dfc53</td>\n",
       "      <td>On Fri, Sep 06, 2002 at 06:22:52PM +0100, Matt...</td>\n",
       "      <td>ham</td>\n",
       "    </tr>\n",
       "    <tr>\n",
       "      <td>emails/ham/00021.607c41268c5b0d66e81b58713a66d12c</td>\n",
       "      <td>&gt; Apols if this has been posted before:\\n\\n&gt; \\...</td>\n",
       "      <td>ham</td>\n",
       "    </tr>\n",
       "  </tbody>\n",
       "</table>\n",
       "<p>2400 rows × 2 columns</p>\n",
       "</div>"
      ],
      "text/plain": [
       "                                                                                              message  \\\n",
       "emails/ham/00173.253a0161257f4fe309df9d9ffabd5ef3   >peter fwded:\\n\\n>>Finally, Constable Evans hu...   \n",
       "emails/ham/00748.d6ca40c29f4224487fc8d802cb5dca88   Of the three lying politicians, which liar wou...   \n",
       "emails/ham/00663.cbfae39e27122415329840060e7619e8   On Thu, 19 Sep 2002, Mr. FoRK wrote:\\n\\n--]I t...   \n",
       "emails/ham/00616.1111fc61de078f069db9d72e961ab5a1   Pity.  Reading that woman's ad and knowing Roh...   \n",
       "emails/spam/00124.db848e36f1b4c2705cbc16ef33a302d4  This is a multi-part message in MIME format.\\n...   \n",
       "...                                                                                               ...   \n",
       "emails/spam/00368.2c1ab4bc7f408e0fcb22dca9b2d5a113  <!DOCTYPE HTML PUBLIC \"-//W3C//DTD HTML 3.2//E...   \n",
       "emails/ham/01383.18c85b7ead9efe35b9a128c42e5170fc   Dan Kohn <dan@dankohn.com> writes:\\n\\n\\n\\n> Gu...   \n",
       "emails/spam/00200.bacd4b2168049778b480367ca670254f  Dear zzzz =2C\\n\\n\\n\\n=3CBODY bgColor=3D#ffccff...   \n",
       "emails/ham/01447.98e4b20ceb192594e992f7db9f8dfc53   On Fri, Sep 06, 2002 at 06:22:52PM +0100, Matt...   \n",
       "emails/ham/00021.607c41268c5b0d66e81b58713a66d12c   > Apols if this has been posted before:\\n\\n> \\...   \n",
       "\n",
       "                                                   class  \n",
       "emails/ham/00173.253a0161257f4fe309df9d9ffabd5ef3    ham  \n",
       "emails/ham/00748.d6ca40c29f4224487fc8d802cb5dca88    ham  \n",
       "emails/ham/00663.cbfae39e27122415329840060e7619e8    ham  \n",
       "emails/ham/00616.1111fc61de078f069db9d72e961ab5a1    ham  \n",
       "emails/spam/00124.db848e36f1b4c2705cbc16ef33a302d4  spam  \n",
       "...                                                  ...  \n",
       "emails/spam/00368.2c1ab4bc7f408e0fcb22dca9b2d5a113  spam  \n",
       "emails/ham/01383.18c85b7ead9efe35b9a128c42e5170fc    ham  \n",
       "emails/spam/00200.bacd4b2168049778b480367ca670254f  spam  \n",
       "emails/ham/01447.98e4b20ceb192594e992f7db9f8dfc53    ham  \n",
       "emails/ham/00021.607c41268c5b0d66e81b58713a66d12c    ham  \n",
       "\n",
       "[2400 rows x 2 columns]"
      ]
     },
     "execution_count": 33,
     "metadata": {},
     "output_type": "execute_result"
    }
   ],
   "source": [
    "trainingSet"
   ]
  },
  {
   "cell_type": "markdown",
   "metadata": {},
   "source": [
    "Now we will use a CountVectorizer to split up each message into its list of words, and throw that into a MultinomialNB classifier. Call fit() and we've got a trained spam filter ready to go! It's just that easy."
   ]
  },
  {
   "cell_type": "code",
   "execution_count": 34,
   "metadata": {},
   "outputs": [
    {
     "data": {
      "text/plain": [
       "MultinomialNB(alpha=1.0, class_prior=None, fit_prior=True)"
      ]
     },
     "execution_count": 34,
     "metadata": {},
     "output_type": "execute_result"
    }
   ],
   "source": [
    "vectorizer = CountVectorizer()\n",
    "counts = vectorizer.fit_transform(trainingSet['message'].values)\n",
    "classifier = MultinomialNB()\n",
    "targets = trainingSet['class'].values\n",
    "classifier.fit(counts, targets)"
   ]
  },
  {
   "cell_type": "code",
   "execution_count": 35,
   "metadata": {},
   "outputs": [],
   "source": [
    "sample = testSet.tail(10)\n",
    "sample2 = testSet.head(10)\n",
    "#print(sample.reset_index(drop=True))\n",
    "#print(sample2.reset_index(drop=True))\n",
    "result = DataFrame({'class': []})\n",
    "result = sample.reset_index(drop=True)['class'] ==sample2.reset_index(drop=True)['class']\n",
    "#print(result.value_counts())"
   ]
  },
  {
   "cell_type": "code",
   "execution_count": 60,
   "metadata": {},
   "outputs": [],
   "source": [
    "testSet = testSet.reset_index(drop=True)"
   ]
  },
  {
   "cell_type": "markdown",
   "metadata": {},
   "source": [
    "Let's try it out:"
   ]
  },
  {
   "cell_type": "code",
   "execution_count": 147,
   "metadata": {},
   "outputs": [],
   "source": [
    "def evaluation (evalDF):\n",
    "    examples = evalDF['message']\n",
    "    example_counts = vectorizer.transform(examples)\n",
    "    predictions = classifier.predict(example_counts)\n",
    "    #predictDF = pd.DataFrame({'message': [], 'class': []})\n",
    "    predictDF = pd.DataFrame(columns = ['message','class','prediction','results'])\n",
    "    predictDF['message']=evalDF['message']\n",
    "    predictDF['class']=evalDF['class']\n",
    "    predictDF['prediction'] = predictions\n",
    "    conditions = [\n",
    "        (predictDF['class'] == 'ham') & (predictDF[\"prediction\"] == 'ham'),\n",
    "        (predictDF['class'] == 'ham') & (predictDF[\"prediction\"] == 'spam'),\n",
    "        (predictDF['class'] == 'spam') & (predictDF[\"prediction\"] == 'spam'),\n",
    "        (predictDF['class'] == 'spam') & (predictDF[\"prediction\"] == 'ham')\n",
    "    ]\n",
    "    outputs = [\n",
    "        'True Negative',\n",
    "        'False Positive',\n",
    "        'True Positive',\n",
    "        'False Negative'\n",
    "    ]\n",
    "    res = numpy.select(conditions, outputs)\n",
    "    predictDF['results'] = res\n",
    "    return predictDF['results'].value_counts()"
   ]
  },
  {
   "cell_type": "markdown",
   "metadata": {},
   "source": [
    "## Activity"
   ]
  },
  {
   "cell_type": "markdown",
   "metadata": {},
   "source": [
    "Our data set is small, so our spam classifier isn't actually very good. Try running some different test emails through it and see if you get the results you expect.\n",
    "\n",
    "If you really want to challenge yourself, try applying train/test to this spam classifier - see how well it can predict some subset of the ham and spam emails."
   ]
  },
  {
   "cell_type": "code",
   "execution_count": 148,
   "metadata": {},
   "outputs": [
    {
     "data": {
      "text/plain": [
       "True Negative     502\n",
       "True Positive      78\n",
       "False Negative     20\n",
       "Name: results, dtype: int64"
      ]
     },
     "execution_count": 148,
     "metadata": {},
     "output_type": "execute_result"
    }
   ],
   "source": [
    "test = evaluation(testSet)\n",
    "test"
   ]
  },
  {
   "cell_type": "code",
   "execution_count": null,
   "metadata": {},
   "outputs": [],
   "source": []
  }
 ],
 "metadata": {
  "kernelspec": {
   "display_name": "Python 3",
   "language": "python",
   "name": "python3"
  },
  "language_info": {
   "codemirror_mode": {
    "name": "ipython",
    "version": 3
   },
   "file_extension": ".py",
   "mimetype": "text/x-python",
   "name": "python",
   "nbconvert_exporter": "python",
   "pygments_lexer": "ipython3",
   "version": "3.7.4"
  }
 },
 "nbformat": 4,
 "nbformat_minor": 1
}
